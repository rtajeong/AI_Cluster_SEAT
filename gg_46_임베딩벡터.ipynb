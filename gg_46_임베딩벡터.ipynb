{
 "cells": [
  {
   "cell_type": "code",
   "execution_count": 1,
   "metadata": {
    "id": "sFdR3sz2UXkx"
   },
   "outputs": [],
   "source": [
    "train_data = 'you need to know how to code'"
   ]
  },
  {
   "cell_type": "code",
   "execution_count": 2,
   "metadata": {
    "id": "sFdR3sz2UXkx"
   },
   "outputs": [],
   "source": [
    "word_set = set(train_data.split()) # 중복을 제거한 단어들의 집합인 단어 집합 생성"
   ]
  },
  {
   "cell_type": "code",
   "execution_count": 3,
   "metadata": {},
   "outputs": [
    {
     "data": {
      "text/plain": [
       "{'code', 'how', 'know', 'need', 'to', 'you'}"
      ]
     },
     "execution_count": 3,
     "metadata": {},
     "output_type": "execute_result"
    }
   ],
   "source": [
    "word_set"
   ]
  },
  {
   "cell_type": "code",
   "execution_count": 4,
   "metadata": {
    "id": "sFdR3sz2UXkx"
   },
   "outputs": [],
   "source": [
    "vocab = {tkn: i+2 for i, tkn in enumerate(word_set)}  # 단어 집합의 각 단어에 고유한 정수 맵핑\n",
    "vocab['<unk>'] = 0\n",
    "vocab['<pad>'] = 1"
   ]
  },
  {
   "cell_type": "code",
   "execution_count": 5,
   "metadata": {},
   "outputs": [
    {
     "data": {
      "text/plain": [
       "{'need': 2,\n",
       " 'you': 3,\n",
       " 'know': 4,\n",
       " 'to': 5,\n",
       " 'how': 6,\n",
       " 'code': 7,\n",
       " '<unk>': 0,\n",
       " '<pad>': 1}"
      ]
     },
     "execution_count": 5,
     "metadata": {},
     "output_type": "execute_result"
    }
   ],
   "source": [
    "vocab"
   ]
  },
  {
   "cell_type": "code",
   "execution_count": 6,
   "metadata": {
    "id": "dRGj_V7AUcPj"
   },
   "outputs": [],
   "source": [
    "import torch.nn as nn"
   ]
  },
  {
   "cell_type": "code",
   "execution_count": 7,
   "metadata": {
    "id": "dRGj_V7AUcPj"
   },
   "outputs": [],
   "source": [
    "embedding_layer = nn.Embedding(num_embeddings = len(vocab),embedding_dim = 3,padding_idx = 1)"
   ]
  },
  {
   "cell_type": "code",
   "execution_count": 8,
   "metadata": {
    "colab": {
     "base_uri": "https://localhost:8080/"
    },
    "id": "UxG7b6AIUd6g",
    "outputId": "6b972dd2-8dbc-43d7-f52a-8421a287211a"
   },
   "outputs": [
    {
     "name": "stdout",
     "output_type": "stream",
     "text": [
      "Parameter containing:\n",
      "tensor([[-0.9356,  0.6600, -0.2753],\n",
      "        [ 0.0000,  0.0000,  0.0000],\n",
      "        [ 1.0997, -0.5051, -0.6170],\n",
      "        [ 1.8066, -0.9557,  0.4121],\n",
      "        [ 0.7442, -0.8909, -1.5037],\n",
      "        [-0.3471,  0.6714,  0.1499],\n",
      "        [-0.0625,  1.0060, -0.2251],\n",
      "        [-0.2290,  0.0027,  1.5720]], requires_grad=True)\n"
     ]
    }
   ],
   "source": [
    "print(embedding_layer.weight)"
   ]
  },
  {
   "cell_type": "code",
   "execution_count": null,
   "metadata": {},
   "outputs": [],
   "source": []
  }
 ],
 "metadata": {
  "colab": {
   "name": "임베딩벡터.ipynb",
   "provenance": []
  },
  "kernelspec": {
   "display_name": "Python 3",
   "language": "python",
   "name": "python3"
  },
  "language_info": {
   "codemirror_mode": {
    "name": "ipython",
    "version": 3
   },
   "file_extension": ".py",
   "mimetype": "text/x-python",
   "name": "python",
   "nbconvert_exporter": "python",
   "pygments_lexer": "ipython3",
   "version": "3.8.8"
  }
 },
 "nbformat": 4,
 "nbformat_minor": 1
}
