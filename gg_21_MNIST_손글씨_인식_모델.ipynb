{
 "cells": [
  {
   "cell_type": "code",
   "execution_count": null,
   "id": "da81b425",
   "metadata": {},
   "outputs": [],
   "source": [
    "# 해당 코드가 tensorflow 2.5.0 버전에서만 동작하므로 2.5.0 버전으로 설치\n",
    "!pip install tensorflow==2.5.0"
   ]
  },
  {
   "cell_type": "code",
   "execution_count": 1,
   "id": "ff55f168",
   "metadata": {},
   "outputs": [],
   "source": [
    "# MNIST 데이터셋과 tensorflow 라이브러리 불러오기\n",
    "import matplotlib.pyplot as plt  \n",
    "from tensorflow.keras.datasets import mnist  \n",
    "from tensorflow.keras.utils import to_categorical  \n",
    "from tensorflow.keras.models import Sequential \n",
    "from tensorflow.keras.layers import Dense  \n",
    "from tensorflow.keras.models import load_model  "
   ]
  },
  {
   "cell_type": "code",
   "execution_count": 2,
   "id": "8603e429",
   "metadata": {},
   "outputs": [],
   "source": [
    "# 데이터셋 불러오기\n",
    "(X_train, y_train), (X_test, y_test) = mnist.load_data()"
   ]
  },
  {
   "cell_type": "code",
   "execution_count": 3,
   "id": "d2c5d2c2",
   "metadata": {},
   "outputs": [
    {
     "name": "stdout",
     "output_type": "stream",
     "text": [
      "X_train_shape: (60000, 28, 28)\n",
      "y_train_shape: (60000,)\n",
      "X_test_shape: (10000, 28, 28)\n",
      "y_test_shape: (10000,)\n"
     ]
    }
   ],
   "source": [
    "# 데이터셋 차원 확인\n",
    "print(f\"X_train_shape: {X_train.shape}\")  # X_train_shape: (60000, 28, 28)\n",
    "print(f\"y_train_shape: {y_train.shape}\")  # y_train_shape: (60000,)\n",
    "print(f\"X_test_shape: {X_test.shape}\")  # X_test_shape: (10000, 28, 28)\n",
    "print(f\"y_test_shape: {y_test.shape}\")  # y_test_shape: (10000,)"
   ]
  },
  {
   "cell_type": "code",
   "execution_count": 4,
   "id": "70d0e857",
   "metadata": {},
   "outputs": [
    {
     "data": {
      "image/png": "[encoded data removed]",
      "text/plain": [
       "<Figure size 432x288 with 1 Axes>"
      ]
     },
     "metadata": {
      "needs_background": "light"
     },
     "output_type": "display_data"
    }
   ],
   "source": [
    "plt.imshow(X_train[0])\n",
    "plt.show()"
   ]
  },
  {
   "cell_type": "code",
   "execution_count": 5,
   "id": "0bb9dcef",
   "metadata": {},
   "outputs": [
    {
     "name": "stdout",
     "output_type": "stream",
     "text": [
      "X_train_shape: (60000, 784)\n",
      "X_test_shape: (10000, 784)\n"
     ]
    }
   ],
   "source": [
    "input_shape = X_train.shape[1] * X_train.shape[2]  # 그림의 크기: 28 * 28\n",
    "number_of_classes = len(set(y_train))  # 레이블의 종류. 0~9로 10개\n",
    "\n",
    "X_train = X_train / 255.0\n",
    "X_test = X_test / 255\n",
    "X_train = X_train.reshape(-1, input_shape)  # 3차원 -> 2차원\n",
    "X_test = X_test.reshape(-1, input_shape)\n",
    "\n",
    "print(f\"X_train_shape: {X_train.shape}\")  # X_train_shape: (60000, 784)\n",
    "print(f\"X_test_shape: {X_test.shape}\")  # X_test_shape: (10000, 784)"
   ]
  },
  {
   "cell_type": "code",
   "execution_count": 6,
   "id": "eb787ab8",
   "metadata": {},
   "outputs": [
    {
     "name": "stdout",
     "output_type": "stream",
     "text": [
      "y_train_shape: (60000, 10)\n",
      "y_test_shape: (10000, 10)\n"
     ]
    }
   ],
   "source": [
    "y_train = to_categorical(y_train, number_of_classes)  \n",
    "# 원-핫 인코딩. 1차원 -> 2차원\n",
    "y_test = to_categorical(y_test, number_of_classes)\n",
    "\n",
    "print(f\"y_train_shape: {y_train.shape}\")  # y_train_shape: (60000, 10)\n",
    "print(f\"y_test_shape: {y_test.shape}\")  # y_test_shape: (10000, 10)"
   ]
  },
  {
   "cell_type": "code",
   "execution_count": 7,
   "id": "cf9a6ee9",
   "metadata": {},
   "outputs": [],
   "source": [
    "model = Sequential()  # 모델 선언"
   ]
  },
  {
   "cell_type": "code",
   "execution_count": 8,
   "id": "35d4697a",
   "metadata": {},
   "outputs": [],
   "source": [
    "# 완전연결층 추가. 처음 쌓는 레이어는 input_shape: 데이터 차원(개수 제외)을 적어줘야함.\n",
    "model.add(Dense(128, activation=\"relu\", input_shape=X_train.shape[1:]))\n",
    "\n",
    "# 출력하는 완전연결층 추가. 다중분류이므로, softmax 활성화함수 사용\n",
    "model.add(Dense(y_train.shape[1], activation=\"softmax\"))"
   ]
  },
  {
   "cell_type": "code",
   "execution_count": 9,
   "id": "0c8dddd7",
   "metadata": {},
   "outputs": [],
   "source": [
    "# 모델 컴파일. 다중분류이므로 categorical_crossentropy, 정확도 표기\n",
    "model.compile(loss=\"categorical_crossentropy\",\n",
    "              optimizer=\"adam\",\n",
    "              metrics=[\"acc\"])"
   ]
  },
  {
   "cell_type": "code",
   "execution_count": 10,
   "id": "5a2a0412",
   "metadata": {},
   "outputs": [
    {
     "name": "stdout",
     "output_type": "stream",
     "text": [
      "Model: \"sequential\"\n",
      "_________________________________________________________________\n",
      "Layer (type)                 Output Shape              Param #   \n",
      "=================================================================\n",
      "dense (Dense)                (None, 128)               100480    \n",
      "_________________________________________________________________\n",
      "dense_1 (Dense)              (None, 10)                1290      \n",
      "=================================================================\n",
      "Total params: 101,770\n",
      "Trainable params: 101,770\n",
      "Non-trainable params: 0\n",
      "_________________________________________________________________\n"
     ]
    }
   ],
   "source": [
    "model.summary()  # 간단하게 요약해 출력"
   ]
  },
  {
   "cell_type": "code",
   "execution_count": 11,
   "id": "68a13c95",
   "metadata": {},
   "outputs": [
    {
     "name": "stdout",
     "output_type": "stream",
     "text": [
      "Epoch 1/10\n",
      "1500/1500 [==============================] - 3s 1ms/step - loss: 0.2832 - acc: 0.9203 - val_loss: 0.1661 - val_acc: 0.9512\n",
      "Epoch 2/10\n",
      "1500/1500 [==============================] - 2s 1ms/step - loss: 0.1256 - acc: 0.9635 - val_loss: 0.1205 - val_acc: 0.9650\n",
      "Epoch 3/10\n",
      "1500/1500 [==============================] - 2s 1ms/step - loss: 0.0873 - acc: 0.9747 - val_loss: 0.1043 - val_acc: 0.9694\n",
      "Epoch 4/10\n",
      "1500/1500 [==============================] - 2s 1ms/step - loss: 0.0646 - acc: 0.9804 - val_loss: 0.0995 - val_acc: 0.9712\n",
      "Epoch 5/10\n",
      "1500/1500 [==============================] - 1s 972us/step - loss: 0.0512 - acc: 0.9840 - val_loss: 0.0894 - val_acc: 0.9732\n",
      "Epoch 6/10\n",
      "1500/1500 [==============================] - 2s 1ms/step - loss: 0.0384 - acc: 0.9881 - val_loss: 0.0991 - val_acc: 0.9721\n",
      "Epoch 7/10\n",
      "1500/1500 [==============================] - 2s 1ms/step - loss: 0.0312 - acc: 0.9906 - val_loss: 0.0970 - val_acc: 0.9735\n",
      "Epoch 8/10\n",
      "1500/1500 [==============================] - 2s 1ms/step - loss: 0.0251 - acc: 0.9927 - val_loss: 0.0962 - val_acc: 0.9750\n",
      "Epoch 9/10\n",
      "1500/1500 [==============================] - 2s 1ms/step - loss: 0.0207 - acc: 0.9939 - val_loss: 0.0940 - val_acc: 0.9737\n",
      "Epoch 10/10\n",
      "1500/1500 [==============================] - 2s 1ms/step - loss: 0.0171 - acc: 0.9950 - val_loss: 0.0973 - val_acc: 0.9745\n",
      "313/313 [==============================] - 1s 1ms/step - loss: 0.0858 - acc: 0.9778\n"
     ]
    }
   ],
   "source": [
    "history = model.fit(X_train, y_train, batch_size=32, epochs=10, validation_split=0.2)\n",
    "loss, acc = model.evaluate(X_test, y_test)  "
   ]
  },
  {
   "cell_type": "code",
   "execution_count": 12,
   "id": "00048344",
   "metadata": {},
   "outputs": [
    {
     "name": "stdout",
     "output_type": "stream",
     "text": [
      "손실률: 0.08576957136392593\n",
      "정확도: 0.9778000116348267\n"
     ]
    }
   ],
   "source": [
    "# 학습 완료 후 검증\n",
    "print(\"손실률:\", loss)  # 손실률: 0.08662549406290054\n",
    "print(\"정확도:\", acc)  # 정확도: 0.9779999852180481"
   ]
  },
  {
   "cell_type": "code",
   "execution_count": 13,
   "id": "8558521c",
   "metadata": {},
   "outputs": [
    {
     "data": {
      "image/png": "[encoded data removed]",
      "text/plain": [
       "<Figure size 1296x432 with 2 Axes>"
      ]
     },
     "metadata": {
      "needs_background": "light"
     },
     "output_type": "display_data"
    }
   ],
   "source": [
    "plt.figure(figsize=(18, 6))\n",
    "\n",
    "# 에포크별 정확도\n",
    "plt.subplot(1,2,1)\n",
    "plt.plot(history.history[\"acc\"], label=\"accuracy\")\n",
    "plt.plot(history.history[\"val_acc\"], label=\"val_accuracy\")\n",
    "plt.title(\"accuracy\")\n",
    "plt.legend()\n",
    "\n",
    "# 에포크별 손실률\n",
    "plt.subplot(1,2,2)\n",
    "plt.plot(history.history[\"loss\"], label=\"loss\")\n",
    "plt.plot(history.history[\"val_loss\"], label=\"val_loss\")\n",
    "plt.title(\"loss\")\n",
    "plt.legend()\n",
    "\n",
    "plt.show()"
   ]
  },
  {
   "cell_type": "code",
   "execution_count": 14,
   "id": "3aba6f26",
   "metadata": {},
   "outputs": [],
   "source": [
    "# 모델 저장\n",
    "model.save('/content/model.h5')\n",
    "loaded_model = load_model('/content/model.h5')"
   ]
  },
  {
   "cell_type": "code",
   "execution_count": 15,
   "id": "f5f203c6",
   "metadata": {},
   "outputs": [
    {
     "data": {
      "image/png": "[encoded data removed]",
      "text/plain": [
       "<Figure size 432x288 with 1 Axes>"
      ]
     },
     "metadata": {
      "needs_background": "light"
     },
     "output_type": "display_data"
    }
   ],
   "source": [
    "# 모델 테스트\n",
    "plt.imshow(X_test[0].reshape(28, 28))  # 데이터 일자로 펴주기\n",
    "plt.show()"
   ]
  },
  {
   "cell_type": "code",
   "execution_count": 18,
   "id": "d6dbd18d",
   "metadata": {},
   "outputs": [
    {
     "name": "stdout",
     "output_type": "stream",
     "text": [
      "real: 7\n",
      "predict: 7\n"
     ]
    }
   ],
   "source": [
    "pred = model.predict(X_test[:1])[0]  \n",
    "\n",
    "print(\"real:\", y_test[0].argmax())  # 7\n",
    "print(\"predict:\", pred.argmax())  # 7"
   ]
  },
  {
   "cell_type": "code",
   "execution_count": null,
   "id": "a48c0630",
   "metadata": {},
   "outputs": [],
   "source": []
  }
 ],
 "metadata": {
  "kernelspec": {
   "display_name": "Python 3",
   "language": "python",
   "name": "python3"
  },
  "language_info": {
   "codemirror_mode": {
    "name": "ipython",
    "version": 3
   },
   "file_extension": ".py",
   "mimetype": "text/x-python",
   "name": "python",
   "nbconvert_exporter": "python",
   "pygments_lexer": "ipython3",
   "version": "3.8.8"
  }
 },
 "nbformat": 4,
 "nbformat_minor": 5
}
