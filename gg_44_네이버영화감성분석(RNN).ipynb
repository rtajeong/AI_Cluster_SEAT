{
 "cells": [
  {
   "cell_type": "code",
   "execution_count": 1,
   "metadata": {
    "colab": {
     "base_uri": "https://localhost:8080/",
     "height": 50
    },
    "colab_type": "code",
    "collapsed": true,
    "id": "zHoKWwCbZoAm",
    "outputId": "626e8557-a9ff-496e-c994-93d0bc628511"
   },
   "outputs": [
    {
     "name": "stdout",
     "output_type": "stream",
     "text": [
      "Requirement already satisfied: konlpy in c:\\users\\admin\\anaconda33\\lib\\site-packages (0.5.2)\n",
      "Requirement already satisfied: JPype1>=0.7.0 in c:\\users\\admin\\anaconda33\\lib\\site-packages (from konlpy) (1.3.0)\n",
      "Requirement already satisfied: beautifulsoup4==4.6.0 in c:\\users\\admin\\anaconda33\\lib\\site-packages (from konlpy) (4.6.0)\n",
      "Requirement already satisfied: colorama in c:\\users\\admin\\anaconda33\\lib\\site-packages (from konlpy) (0.4.4)\n",
      "Requirement already satisfied: lxml>=4.1.0 in c:\\users\\admin\\anaconda33\\lib\\site-packages (from konlpy) (4.6.3)\n",
      "Requirement already satisfied: numpy>=1.6 in c:\\users\\admin\\anaconda33\\lib\\site-packages (from konlpy) (1.19.5)\n",
      "Requirement already satisfied: tweepy>=3.7.0 in c:\\users\\admin\\anaconda33\\lib\\site-packages (from konlpy) (3.10.0)\n",
      "Requirement already satisfied: requests[socks]>=2.11.1 in c:\\users\\admin\\anaconda33\\lib\\site-packages (from tweepy>=3.7.0->konlpy) (2.25.1)\n",
      "Requirement already satisfied: requests-oauthlib>=0.7.0 in c:\\users\\admin\\anaconda33\\lib\\site-packages (from tweepy>=3.7.0->konlpy) (1.3.0)\n",
      "Requirement already satisfied: six>=1.10.0 in c:\\users\\admin\\anaconda33\\lib\\site-packages (from tweepy>=3.7.0->konlpy) (1.15.0)\n",
      "Requirement already satisfied: oauthlib>=3.0.0 in c:\\users\\admin\\anaconda33\\lib\\site-packages (from requests-oauthlib>=0.7.0->tweepy>=3.7.0->konlpy) (3.1.1)\n",
      "Requirement already satisfied: chardet<5,>=3.0.2 in c:\\users\\admin\\anaconda33\\lib\\site-packages (from requests[socks]>=2.11.1->tweepy>=3.7.0->konlpy) (4.0.0)\n",
      "Requirement already satisfied: idna<3,>=2.5 in c:\\users\\admin\\anaconda33\\lib\\site-packages (from requests[socks]>=2.11.1->tweepy>=3.7.0->konlpy) (2.10)\n",
      "Requirement already satisfied: urllib3<1.27,>=1.21.1 in c:\\users\\admin\\anaconda33\\lib\\site-packages (from requests[socks]>=2.11.1->tweepy>=3.7.0->konlpy) (1.26.4)\n",
      "Requirement already satisfied: certifi>=2017.4.17 in c:\\users\\admin\\anaconda33\\lib\\site-packages (from requests[socks]>=2.11.1->tweepy>=3.7.0->konlpy) (2020.12.5)\n",
      "Requirement already satisfied: PySocks!=1.5.7,>=1.5.6 in c:\\users\\admin\\anaconda33\\lib\\site-packages (from requests[socks]>=2.11.1->tweepy>=3.7.0->konlpy) (1.7.1)\n"
     ]
    },
    {
     "name": "stderr",
     "output_type": "stream",
     "text": [
      "\n",
      "[notice] A new release of pip is available: 23.1.2 -> 23.3.2\n",
      "[notice] To update, run: python.exe -m pip install --upgrade pip\n"
     ]
    }
   ],
   "source": [
    "# GPU 런타임 설정을 한 후 실행한다.\n",
    "!pip install konlpy"
   ]
  },
  {
   "cell_type": "code",
   "execution_count": 2,
   "metadata": {
    "colab": {
     "base_uri": "https://localhost:8080/",
     "height": 33
    },
    "colab_type": "code",
    "id": "vUusS2vgZ_Zx",
    "outputId": "67042eac-12a4-4ec1-c46d-6897e474f855"
   },
   "outputs": [],
   "source": [
    "# 패키지 설치\n",
    "import konlpy\n",
    "import pandas as pd\n",
    "import numpy as np\n",
    "# from konlpy.tag import Twitter\n",
    "from konlpy.tag import Okt\n",
    "from sklearn.feature_extraction.text import TfidfVectorizer\n",
    "from keras.models import Sequential\n",
    "from keras.layers import Dense, Dropout, Activation\n",
    "from sklearn import model_selection, metrics"
   ]
  },
  {
   "cell_type": "code",
   "execution_count": 3,
   "metadata": {
    "colab": {
     "base_uri": "https://localhost:8080/",
     "height": 216
    },
    "colab_type": "code",
    "collapsed": true,
    "id": "R0svk5kdfrBs",
    "outputId": "bb445df4-e338-4736-a301-e34e7de79182"
   },
   "outputs": [
    {
     "name": "stderr",
     "output_type": "stream",
     "text": [
      "  % Total    % Received % Xferd  Average Speed   Time    Time     Time  Current\n",
      "                                 Dload  Upload   Total   Spent    Left  Speed\n",
      "\n",
      "  0     0    0     0    0     0      0      0 --:--:-- --:--:-- --:--:--     0\n",
      "  0     0    0     0    0     0      0      0 --:--:-- --:--:-- --:--:--     0\n",
      "100   152  100   152    0     0    161      0 --:--:-- --:--:-- --:--:--   161\n",
      "\n",
      "100    69    0    69    0     0     46      0 --:--:--  0:00:01 --:--:--    46\n",
      "\n",
      "100   297  100   297    0     0    159      0  0:00:01  0:00:01 --:--:--   159\n",
      "100   297  100   297    0     0    159      0  0:00:01  0:00:01 --:--:--     0\n",
      "\n",
      "  0 14.0M    0  112k    0     0  43740      0  0:05:37  0:00:02  0:05:35 43740\n",
      " 62 14.0M   62 9088k    0     0  2509k      0  0:00:05  0:00:03  0:00:02 8976k\n",
      "100 14.0M  100 14.0M    0     0  3446k      0  0:00:04  0:00:04 --:--:-- 9150k\n",
      "  % Total    % Received % Xferd  Average Speed   Time    Time     Time  Current\n",
      "                                 Dload  Upload   Total   Spent    Left  Speed\n",
      "\n",
      "  0     0    0     0    0     0      0      0 --:--:-- --:--:-- --:--:--     0\n",
      "100   151  100   151    0     0    580      0 --:--:-- --:--:-- --:--:--   583\n",
      "\n",
      "  0     0    0     0    0     0      0      0 --:--:-- --:--:-- --:--:--     0\n",
      "100    68    0    68    0     0    122      0 --:--:-- --:--:-- --:--:--   731\n",
      "\n",
      "100   297  100   297    0     0    314      0 --:--:-- --:--:-- --:--:--   314\n",
      "\n",
      "  0     0    0     0    0     0      0      0 --:--:--  0:00:01 --:--:--     0\n",
      "100 4827k  100 4827k    0     0  2316k      0  0:00:02  0:00:02 --:--:-- 8825k\n"
     ]
    }
   ],
   "source": [
    "!curl -L https://bit.ly/2X9Owwr -o ratings_train.txt\n",
    "!curl -L https://bit.ly/2WuLd5I -o ratings_test.txt"
   ]
  },
  {
   "cell_type": "markdown",
   "metadata": {},
   "source": [
    "### keep_default_na=False\n",
    "- https://velog.io/@hamdoe/pd.readcsv-%EC%8B%9C-NaN-%EA%B0%92-None%EC%9C%BC%EB%A1%9C-%EB%B0%94%EA%BE%B8%EA%B8%B0\n",
    "- https://atotw.tistory.com/485"
   ]
  },
  {
   "cell_type": "code",
   "execution_count": 4,
   "metadata": {
    "colab": {},
    "colab_type": "code",
    "id": "yUHPI7zrhcQ-"
   },
   "outputs": [],
   "source": [
    "# 데이터 로드\n",
    "df_train = pd.read_csv('ratings_train.txt', delimiter='\\t', keep_default_na=False)\n",
    "df_test = pd.read_csv('ratings_test.txt', delimiter='\\t', keep_default_na=False)\n"
   ]
  },
  {
   "cell_type": "code",
   "execution_count": 5,
   "metadata": {
    "colab": {
     "base_uri": "https://localhost:8080/",
     "height": 137
    },
    "colab_type": "code",
    "id": "aTYJbZvmheI1",
    "outputId": "c087b3b4-f8c7-4d69-89c5-24a4ac98af83"
   },
   "outputs": [
    {
     "data": {
      "text/html": [
       "<div>\n",
       "<style scoped>\n",
       "    .dataframe tbody tr th:only-of-type {\n",
       "        vertical-align: middle;\n",
       "    }\n",
       "\n",
       "    .dataframe tbody tr th {\n",
       "        vertical-align: top;\n",
       "    }\n",
       "\n",
       "    .dataframe thead th {\n",
       "        text-align: right;\n",
       "    }\n",
       "</style>\n",
       "<table border=\"1\" class=\"dataframe\">\n",
       "  <thead>\n",
       "    <tr style=\"text-align: right;\">\n",
       "      <th></th>\n",
       "      <th>id</th>\n",
       "      <th>document</th>\n",
       "      <th>label</th>\n",
       "    </tr>\n",
       "  </thead>\n",
       "  <tbody>\n",
       "    <tr>\n",
       "      <th>0</th>\n",
       "      <td>9976970</td>\n",
       "      <td>아 더빙.. 진짜 짜증나네요 목소리</td>\n",
       "      <td>0</td>\n",
       "    </tr>\n",
       "    <tr>\n",
       "      <th>1</th>\n",
       "      <td>3819312</td>\n",
       "      <td>흠...포스터보고 초딩영화줄....오버연기조차 가볍지 않구나</td>\n",
       "      <td>1</td>\n",
       "    </tr>\n",
       "    <tr>\n",
       "      <th>2</th>\n",
       "      <td>10265843</td>\n",
       "      <td>너무재밓었다그래서보는것을추천한다</td>\n",
       "      <td>0</td>\n",
       "    </tr>\n",
       "  </tbody>\n",
       "</table>\n",
       "</div>"
      ],
      "text/plain": [
       "         id                           document  label\n",
       "0   9976970                아 더빙.. 진짜 짜증나네요 목소리      0\n",
       "1   3819312  흠...포스터보고 초딩영화줄....오버연기조차 가볍지 않구나      1\n",
       "2  10265843                  너무재밓었다그래서보는것을추천한다      0"
      ]
     },
     "execution_count": 5,
     "metadata": {},
     "output_type": "execute_result"
    }
   ],
   "source": [
    "df_train[:3]"
   ]
  },
  {
   "cell_type": "code",
   "execution_count": 7,
   "metadata": {
    "colab": {
     "base_uri": "https://localhost:8080/",
     "height": 136
    },
    "colab_type": "code",
    "id": "vXK-nf2zbPFf",
    "outputId": "fc8e55f9-f7ec-429e-958f-d0d3b90c09aa"
   },
   "outputs": [],
   "source": [
    "# text_train, y_train = df_train['document'].as_matrix(), df_train['label'].as_matrix()\n",
    "# text_test, y_test = df_test['document'].as_matrix(), df_test['label'].as_matrix()\n",
    "text_train, y_train = df_train['document'].to_numpy(), df_train['label'].to_numpy()\n",
    "text_test, y_test = df_test['document'].to_numpy(), df_test['label'].to_numpy()\n",
    "\n",
    "\n",
    "# twitter_tag = Twitter()\n",
    "twitter_tag = Okt()"
   ]
  },
  {
   "cell_type": "code",
   "execution_count": 8,
   "metadata": {},
   "outputs": [],
   "source": [
    "# 토큰 파서\n",
    "def twitter_tokenizer(text):\n",
    "    return twitter_tag.morphs(text)"
   ]
  },
  {
   "cell_type": "markdown",
   "metadata": {},
   "source": [
    "## 문서-단어 행렬 \n",
    "- 시간 많이 걸림(13분 정도)"
   ]
  },
  {
   "cell_type": "code",
   "execution_count": 9,
   "metadata": {
    "colab": {},
    "colab_type": "code",
    "id": "mV7O1GW9uXJN"
   },
   "outputs": [],
   "source": [
    "cv = TfidfVectorizer(tokenizer=twitter_tokenizer, \n",
    "                     max_features=3000)\n",
    "X_train = cv.fit_transform(text_train)\n",
    "X_test = cv.transform(text_test)"
   ]
  },
  {
   "cell_type": "code",
   "execution_count": 10,
   "metadata": {
    "colab": {
     "base_uri": "https://localhost:8080/",
     "height": 33
    },
    "colab_type": "code",
    "id": "OQa7k9WDnvMC",
    "outputId": "1a759c37-0274-4894-ce82-2cac0f09ae8c",
    "scrolled": true
   },
   "outputs": [
    {
     "data": {
      "text/plain": [
       "((150000, 3000), (150000,))"
      ]
     },
     "execution_count": 10,
     "metadata": {},
     "output_type": "execute_result"
    }
   ],
   "source": [
    "X_train.shape, y_train.shape"
   ]
  },
  {
   "cell_type": "code",
   "execution_count": 11,
   "metadata": {
    "colab": {
     "base_uri": "https://localhost:8080/",
     "height": 33
    },
    "colab_type": "code",
    "id": "qEbIbUERr-V5",
    "outputId": "ff64cec3-8b9b-42d0-e2f8-1f5e1e8f2749",
    "scrolled": true
   },
   "outputs": [
    {
     "data": {
      "text/plain": [
       "((50000, 3000), (50000,))"
      ]
     },
     "execution_count": 11,
     "metadata": {},
     "output_type": "execute_result"
    }
   ],
   "source": [
    "X_test.shape, y_test.shape"
   ]
  },
  {
   "cell_type": "code",
   "execution_count": 12,
   "metadata": {
    "scrolled": true
   },
   "outputs": [
    {
     "data": {
      "text/plain": [
       "<1x3000 sparse matrix of type '<class 'numpy.float64'>'\n",
       "\twith 5 stored elements in Compressed Sparse Row format>"
      ]
     },
     "execution_count": 12,
     "metadata": {},
     "output_type": "execute_result"
    }
   ],
   "source": [
    "X_train[:1]"
   ]
  },
  {
   "cell_type": "code",
   "execution_count": 13,
   "metadata": {},
   "outputs": [
    {
     "data": {
      "text/plain": [
       "array([[0., 0., 0., ..., 0., 0., 0.]])"
      ]
     },
     "execution_count": 13,
     "metadata": {},
     "output_type": "execute_result"
    }
   ],
   "source": [
    "X_train[:1].toarray()"
   ]
  },
  {
   "cell_type": "code",
   "execution_count": 14,
   "metadata": {},
   "outputs": [
    {
     "data": {
      "text/plain": [
       "array([[0., 0., 0., ..., 0., 0., 0.]])"
      ]
     },
     "execution_count": 14,
     "metadata": {},
     "output_type": "execute_result"
    }
   ],
   "source": [
    "X_train[:1].A"
   ]
  },
  {
   "cell_type": "code",
   "execution_count": 15,
   "metadata": {},
   "outputs": [
    {
     "data": {
      "text/plain": [
       "((150000, 3000), (150000, 3000))"
      ]
     },
     "execution_count": 15,
     "metadata": {},
     "output_type": "execute_result"
    }
   ],
   "source": [
    "X_train.shape, X_train.A.shape"
   ]
  },
  {
   "cell_type": "code",
   "execution_count": 16,
   "metadata": {
    "colab": {
     "base_uri": "https://localhost:8080/",
     "height": 33
    },
    "colab_type": "code",
    "id": "0f-t_efiGWYV",
    "outputId": "e8a16be9-d37f-4ccc-9491-c25ff353b9b8",
    "scrolled": true
   },
   "outputs": [
    {
     "data": {
      "text/plain": [
       "array([1, 0, 0], dtype=int64)"
      ]
     },
     "execution_count": 16,
     "metadata": {},
     "output_type": "execute_result"
    }
   ],
   "source": [
    "y_test[:3]"
   ]
  },
  {
   "cell_type": "code",
   "execution_count": 18,
   "metadata": {
    "scrolled": true
   },
   "outputs": [],
   "source": [
    "# feature_names = cv.get_feature_names()\n",
    "\n",
    "feature_names = cv.get_feature_names()"
   ]
  },
  {
   "cell_type": "code",
   "execution_count": 19,
   "metadata": {},
   "outputs": [
    {
     "data": {
      "text/plain": [
       "list"
      ]
     },
     "execution_count": 19,
     "metadata": {},
     "output_type": "execute_result"
    }
   ],
   "source": [
    "type(feature_names)"
   ]
  },
  {
   "cell_type": "code",
   "execution_count": 20,
   "metadata": {
    "colab_type": "text",
    "id": "ZNtFJNw_xMIE",
    "scrolled": true
   },
   "outputs": [
    {
     "data": {
      "text/plain": [
       "3000"
      ]
     },
     "execution_count": 20,
     "metadata": {},
     "output_type": "execute_result"
    }
   ],
   "source": [
    "len(feature_names)"
   ]
  },
  {
   "cell_type": "code",
   "execution_count": 21,
   "metadata": {},
   "outputs": [
    {
     "data": {
      "text/plain": [
       "['!',\n",
       " '!!',\n",
       " '!!!',\n",
       " '!!!!',\n",
       " '!!!!!',\n",
       " '\"',\n",
       " '\"\"',\n",
       " '\"\"\"',\n",
       " '&',\n",
       " \"'\",\n",
       " '(',\n",
       " '(?)',\n",
       " ')',\n",
       " '+',\n",
       " ',',\n",
       " ',,',\n",
       " ',,,',\n",
       " ',,,,',\n",
       " ',.',\n",
       " '-',\n",
       " '--',\n",
       " '-_-',\n",
       " '.',\n",
       " '.\"',\n",
       " '.,',\n",
       " '..',\n",
       " '...',\n",
       " '....',\n",
       " '.....',\n",
       " '......',\n",
       " '.......',\n",
       " '........',\n",
       " '.........',\n",
       " '..........',\n",
       " '...?',\n",
       " '..;;',\n",
       " '..?',\n",
       " '..^^',\n",
       " '.^^',\n",
       " '/',\n",
       " '//',\n",
       " '0',\n",
       " '007',\n",
       " '1',\n",
       " '10',\n",
       " '100',\n",
       " '100%',\n",
       " '10년',\n",
       " '10분',\n",
       " '11',\n",
       " '12',\n",
       " '13',\n",
       " '15',\n",
       " '18',\n",
       " '19',\n",
       " '1시간',\n",
       " '2',\n",
       " '20',\n",
       " '2014년',\n",
       " '20년',\n",
       " '20분',\n",
       " '21',\n",
       " '2시간',\n",
       " '3',\n",
       " '30',\n",
       " '30년',\n",
       " '30분',\n",
       " '4',\n",
       " '40',\n",
       " '5',\n",
       " '5분',\n",
       " '6',\n",
       " '7',\n",
       " '70년',\n",
       " '8',\n",
       " '80년',\n",
       " '9',\n",
       " '90년',\n",
       " ':',\n",
       " ':)',\n",
       " ';',\n",
       " ';;',\n",
       " ';;;',\n",
       " ';;;;',\n",
       " '<',\n",
       " '=',\n",
       " '>',\n",
       " '?',\n",
       " '?!',\n",
       " '?...',\n",
       " '??',\n",
       " '???',\n",
       " '????',\n",
       " '@',\n",
       " '[',\n",
       " ']',\n",
       " '^',\n",
       " '^^',\n",
       " '_',\n",
       " '`',\n",
       " 'a',\n",
       " 'b',\n",
       " 'bad',\n",
       " 'c',\n",
       " 'cg',\n",
       " 'cgv',\n",
       " 'd',\n",
       " 'dvd',\n",
       " 'ebs',\n",
       " 'good',\n",
       " 'i',\n",
       " 'kbs',\n",
       " 'm',\n",
       " 'mbc',\n",
       " 'ocn',\n",
       " 'of',\n",
       " 'oo',\n",
       " 'ooo',\n",
       " 'ost',\n",
       " 's',\n",
       " 'sf',\n",
       " 't',\n",
       " 'the',\n",
       " 'tv',\n",
       " 'x',\n",
       " 'you',\n",
       " '~',\n",
       " '~!',\n",
       " '~!!',\n",
       " '~!!!',\n",
       " '~^^',\n",
       " '~~',\n",
       " '~~~',\n",
       " '~~~~',\n",
       " '♡',\n",
       " '♥',\n",
       " '♥♥',\n",
       " '♥♥♥',\n",
       " 'ㄱ',\n",
       " 'ㄴ',\n",
       " 'ㄷ',\n",
       " 'ㄷㄷ',\n",
       " 'ㄷㄷㄷ',\n",
       " 'ㅁ',\n",
       " 'ㅄ',\n",
       " 'ㅅ',\n",
       " 'ㅅㅂ',\n",
       " 'ㅇ',\n",
       " 'ㅇㅇ',\n",
       " 'ㅈ',\n",
       " 'ㅉ',\n",
       " 'ㅉㅉ',\n",
       " 'ㅉㅉㅉ',\n",
       " 'ㅋ',\n",
       " 'ㅋㅋ',\n",
       " 'ㅋㅋㅋ',\n",
       " 'ㅋㅋㅋㅋ',\n",
       " 'ㅋㅋㅋㅋㅋ',\n",
       " 'ㅋㅋㅋㅋㅋㅋ',\n",
       " 'ㅋㅋㅋㅋㅋㅋㅋ',\n",
       " 'ㅋㅋㅋㅋㅋㅋㅋㅋ',\n",
       " 'ㅋㅋㅋㅋㅋㅋㅋㅋㅋ',\n",
       " 'ㅎ',\n",
       " 'ㅎㄷㄷ',\n",
       " 'ㅎㅎ',\n",
       " 'ㅎㅎㅎ',\n",
       " 'ㅎㅎㅎㅎ',\n",
       " 'ㅏ',\n",
       " 'ㅜ',\n",
       " 'ㅜㅜ',\n",
       " 'ㅜㅠ',\n",
       " 'ㅠ',\n",
       " 'ㅠㅜ',\n",
       " 'ㅠㅠ',\n",
       " 'ㅠㅠㅠ',\n",
       " 'ㅠㅠㅠㅠ',\n",
       " 'ㅡ',\n",
       " 'ㅡㅡ',\n",
       " 'ㅣ',\n",
       " '가',\n",
       " '가고',\n",
       " '가끔',\n",
       " '가는',\n",
       " '가는줄',\n",
       " '가능한',\n",
       " '가득',\n",
       " '가득한',\n",
       " '가면',\n",
       " '가벼운',\n",
       " '가볍게',\n",
       " '가본',\n",
       " '가서',\n",
       " '가수',\n",
       " '가슴',\n",
       " '가요',\n",
       " '가장',\n",
       " '가정',\n",
       " '가족',\n",
       " '가족영화',\n",
       " '가지',\n",
       " '가진',\n",
       " '가치',\n",
       " '각',\n",
       " '각본',\n",
       " '각색',\n",
       " '간',\n",
       " '간다',\n",
       " '간만',\n",
       " '갈',\n",
       " '갈등',\n",
       " '갈수록',\n",
       " '감',\n",
       " '감각',\n",
       " '감도',\n",
       " '감독',\n",
       " '감동',\n",
       " '감명',\n",
       " '감사',\n",
       " '감사합니다',\n",
       " '감상',\n",
       " '감성',\n",
       " '감안',\n",
       " '감정',\n",
       " '감정이입',\n",
       " '감탄',\n",
       " '감흥',\n",
       " '감히',\n",
       " '갑',\n",
       " '갑니다',\n",
       " '갑자기',\n",
       " '값',\n",
       " '갓',\n",
       " '갔는데',\n",
       " '갔다',\n",
       " '강',\n",
       " '강력',\n",
       " '강렬한',\n",
       " '강추',\n",
       " '강한',\n",
       " '갖고',\n",
       " '같',\n",
       " '같고',\n",
       " '같네',\n",
       " '같네요',\n",
       " '같다',\n",
       " '같습니다',\n",
       " '같아',\n",
       " '같아서',\n",
       " '같아요',\n",
       " '같았다',\n",
       " '같은',\n",
       " '같은데',\n",
       " '같음',\n",
       " '같이',\n",
       " '같지',\n",
       " '같지만',\n",
       " '개',\n",
       " '개그',\n",
       " '개념',\n",
       " '개도',\n",
       " '개막',\n",
       " '개봉',\n",
       " '개뿔',\n",
       " '개성',\n",
       " '개연',\n",
       " '개인',\n",
       " '개콘',\n",
       " '개판',\n",
       " '갠',\n",
       " '걍',\n",
       " '거',\n",
       " '거기',\n",
       " '거나',\n",
       " '거리',\n",
       " '거부',\n",
       " '거의',\n",
       " '거장',\n",
       " '거지',\n",
       " '거짓말',\n",
       " '거품',\n",
       " '걱정',\n",
       " '건',\n",
       " '건가',\n",
       " '건지',\n",
       " '걸',\n",
       " '걸까',\n",
       " '걸작',\n",
       " '검색',\n",
       " '겁',\n",
       " '겁나',\n",
       " '겁니다',\n",
       " '것',\n",
       " '겉',\n",
       " '겉멋',\n",
       " '게',\n",
       " '게다가',\n",
       " '게뭐',\n",
       " '게스트',\n",
       " '게이',\n",
       " '게임',\n",
       " '겨',\n",
       " '겨우',\n",
       " '겨울',\n",
       " '견자단',\n",
       " '결과',\n",
       " '결국',\n",
       " '결론',\n",
       " '결말',\n",
       " '결정',\n",
       " '결코',\n",
       " '결혼',\n",
       " '경',\n",
       " '경찰',\n",
       " '경험',\n",
       " '계',\n",
       " '계기',\n",
       " '계속',\n",
       " '고',\n",
       " '고등학교',\n",
       " '고딩',\n",
       " '고민',\n",
       " '고생',\n",
       " '고양이',\n",
       " '고전',\n",
       " '고통',\n",
       " '곡',\n",
       " '곧',\n",
       " '골',\n",
       " '곳',\n",
       " '공',\n",
       " '공간',\n",
       " '공감',\n",
       " '공부',\n",
       " '공짜',\n",
       " '공포',\n",
       " '공포물',\n",
       " '공포영화',\n",
       " '과',\n",
       " '과거',\n",
       " '과는',\n",
       " '과도',\n",
       " '과연',\n",
       " '과의',\n",
       " '과장',\n",
       " '과정',\n",
       " '과학',\n",
       " '관',\n",
       " '관객',\n",
       " '관계',\n",
       " '관람',\n",
       " '관련',\n",
       " '관심',\n",
       " '관점',\n",
       " '광고',\n",
       " '괜찮고',\n",
       " '괜찮다',\n",
       " '괜찮았는데',\n",
       " '괜찮았다',\n",
       " '괜찮은',\n",
       " '괜찮은데',\n",
       " '괜찮음',\n",
       " '괜히',\n",
       " '괴물',\n",
       " '굉장히',\n",
       " '교과서',\n",
       " '교육',\n",
       " '교훈',\n",
       " '구',\n",
       " '구나',\n",
       " '구리',\n",
       " '구성',\n",
       " '국가',\n",
       " '국내',\n",
       " '국민',\n",
       " '군',\n",
       " '군대',\n",
       " '굳',\n",
       " '굳이',\n",
       " '굿',\n",
       " '굿굿',\n",
       " '궁금하다',\n",
       " '궁금해서',\n",
       " '권',\n",
       " '귀',\n",
       " '귀신',\n",
       " '귀여운',\n",
       " '귀여워',\n",
       " '귀여워요',\n",
       " '귀엽고',\n",
       " '귀엽다',\n",
       " '그',\n",
       " '그거',\n",
       " '그건',\n",
       " '그걸',\n",
       " '그것',\n",
       " '그게',\n",
       " '그나마',\n",
       " '그냥',\n",
       " '그녀',\n",
       " '그다지',\n",
       " '그닥',\n",
       " '그대로',\n",
       " '그동안',\n",
       " '그때',\n",
       " '그래',\n",
       " '그래도',\n",
       " '그래서',\n",
       " '그래픽',\n",
       " '그러나',\n",
       " '그럭저럭',\n",
       " '그런',\n",
       " '그런데',\n",
       " '그런지',\n",
       " '그럴',\n",
       " '그럼',\n",
       " '그렇게',\n",
       " '그렇고',\n",
       " '그렇다',\n",
       " '그렇다고',\n",
       " '그렇지',\n",
       " '그렇지만',\n",
       " '그려',\n",
       " '그리',\n",
       " '그리고',\n",
       " '그린',\n",
       " '그림',\n",
       " '그립다',\n",
       " '그만',\n",
       " '그만큼',\n",
       " '그야말로',\n",
       " '그저',\n",
       " '극',\n",
       " '극단',\n",
       " '극복',\n",
       " '극장',\n",
       " '극장판',\n",
       " '극치',\n",
       " '근',\n",
       " '근데',\n",
       " '근래',\n",
       " '글',\n",
       " '글쎄',\n",
       " '글자',\n",
       " '금',\n",
       " '금보',\n",
       " '급',\n",
       " '기',\n",
       " '기는',\n",
       " '기대',\n",
       " '기대하고',\n",
       " '기대했는데',\n",
       " '기도',\n",
       " '기독교',\n",
       " '기를',\n",
       " '기만',\n",
       " '기법',\n",
       " '기본',\n",
       " '기분',\n",
       " '기세',\n",
       " '기술',\n",
       " '기억',\n",
       " '기자',\n",
       " '기적',\n",
       " '기존',\n",
       " '기준',\n",
       " '기회',\n",
       " '긴',\n",
       " '긴장',\n",
       " '긴장감',\n",
       " '길',\n",
       " '길게',\n",
       " '길이',\n",
       " '김',\n",
       " '김기덕',\n",
       " '김치',\n",
       " '깊게',\n",
       " '깊은',\n",
       " '깊이',\n",
       " '까',\n",
       " '까지',\n",
       " '까지는',\n",
       " '까지도',\n",
       " '까진',\n",
       " '깍',\n",
       " '깜짝',\n",
       " '깡패',\n",
       " '깨',\n",
       " '깨닫게',\n",
       " '꺼',\n",
       " '껏',\n",
       " '께',\n",
       " '꼬',\n",
       " '꼬마',\n",
       " '꼭',\n",
       " '꼴',\n",
       " '꽃',\n",
       " '꽝',\n",
       " '꽤',\n",
       " '꿀잼',\n",
       " '꿈',\n",
       " '끌',\n",
       " '끌어',\n",
       " '끔',\n",
       " '끝',\n",
       " '끝나',\n",
       " '끝나고',\n",
       " '끝나는',\n",
       " '끝나서',\n",
       " '끝난',\n",
       " '끝날',\n",
       " '끝내',\n",
       " '끼',\n",
       " '끼리',\n",
       " '끼워',\n",
       " '나',\n",
       " '나가는',\n",
       " '나고',\n",
       " '나네요',\n",
       " '나도',\n",
       " '나라',\n",
       " '나레이션',\n",
       " '나를',\n",
       " '나름',\n",
       " '나머지',\n",
       " '나쁘지',\n",
       " '나쁜',\n",
       " '나서',\n",
       " '나오고',\n",
       " '나오네',\n",
       " '나오네요',\n",
       " '나오는',\n",
       " '나오는데',\n",
       " '나오면',\n",
       " '나오지',\n",
       " '나온',\n",
       " '나온다',\n",
       " '나올',\n",
       " '나옴',\n",
       " '나와',\n",
       " '나와서',\n",
       " '나왔다',\n",
       " '나왔으면',\n",
       " '나은',\n",
       " '나이',\n",
       " '나중',\n",
       " '낚',\n",
       " '낚시',\n",
       " '낚였다',\n",
       " '난',\n",
       " '난다',\n",
       " '난리',\n",
       " '날',\n",
       " '남',\n",
       " '남겨',\n",
       " '남네요',\n",
       " '남녀',\n",
       " '남는',\n",
       " '남는다',\n",
       " '남성',\n",
       " '남아',\n",
       " '남은',\n",
       " '남자',\n",
       " '남주',\n",
       " '남편',\n",
       " '낫',\n",
       " '낫다',\n",
       " '났다',\n",
       " '낭비',\n",
       " '낮게',\n",
       " '낮네',\n",
       " '낮다',\n",
       " '낮아',\n",
       " '낮아서',\n",
       " '낮은',\n",
       " '낮지',\n",
       " '내',\n",
       " '내고',\n",
       " '내내',\n",
       " '내면',\n",
       " '내생',\n",
       " '내용',\n",
       " '내일',\n",
       " '낸',\n",
       " '냄새',\n",
       " '냐',\n",
       " '냥',\n",
       " '너',\n",
       " '너무',\n",
       " '너무나',\n",
       " '너무나도',\n",
       " '너무도',\n",
       " '넌',\n",
       " '널',\n",
       " '넘',\n",
       " '넘게',\n",
       " '넘치는',\n",
       " '네',\n",
       " '네이버',\n",
       " '네티즌',\n",
       " '녀',\n",
       " '녀석',\n",
       " '년',\n",
       " '년전',\n",
       " '노',\n",
       " '노답',\n",
       " '노래',\n",
       " '노력',\n",
       " '노잼',\n",
       " '노출',\n",
       " '논',\n",
       " '논리',\n",
       " '놀라운',\n",
       " '놀랍다',\n",
       " '놀랐다',\n",
       " '놈',\n",
       " '높게',\n",
       " '높다',\n",
       " '높아',\n",
       " '높아서',\n",
       " '높은',\n",
       " '놓고',\n",
       " '놔',\n",
       " '뇌',\n",
       " '누가',\n",
       " '누구',\n",
       " '누군가',\n",
       " '누군지',\n",
       " '누나',\n",
       " '눈',\n",
       " '눈물',\n",
       " '눈빛',\n",
       " '느껴지는',\n",
       " '느껴진다',\n",
       " '느꼈다',\n",
       " '느끼게',\n",
       " '느끼는',\n",
       " '느낀',\n",
       " '느낄',\n",
       " '느낄수',\n",
       " '느낌',\n",
       " '느와르',\n",
       " '는',\n",
       " '는걸',\n",
       " '는데',\n",
       " '늘',\n",
       " '능',\n",
       " '능력',\n",
       " '니',\n",
       " '니까',\n",
       " '니깐',\n",
       " '니콜',\n",
       " '님',\n",
       " '다',\n",
       " '다가',\n",
       " '다룬',\n",
       " '다르게',\n",
       " '다르다',\n",
       " '다른',\n",
       " '다리',\n",
       " '다만',\n",
       " '다섯',\n",
       " '다세포',\n",
       " '다소',\n",
       " '다시',\n",
       " '다시는',\n",
       " '다신',\n",
       " '다양한',\n",
       " '다운',\n",
       " '다음',\n",
       " '다큐',\n",
       " '다큐멘터리',\n",
       " '다행',\n",
       " '단',\n",
       " '단순',\n",
       " '단순한',\n",
       " '단순히',\n",
       " '단어',\n",
       " '단연',\n",
       " '단점',\n",
       " '단지',\n",
       " '단체',\n",
       " '달',\n",
       " '달달',\n",
       " '달라',\n",
       " '달리',\n",
       " '담',\n",
       " '담배',\n",
       " '답',\n",
       " '답답하고',\n",
       " '답답한',\n",
       " '당',\n",
       " '당시',\n",
       " '당신',\n",
       " '당연히',\n",
       " '당황',\n",
       " '대',\n",
       " '대가',\n",
       " '대결',\n",
       " '대놓고',\n",
       " '대단하다',\n",
       " '대단한',\n",
       " '대로',\n",
       " '대박',\n",
       " '대본',\n",
       " '대부분',\n",
       " '대사',\n",
       " '대신',\n",
       " '대안',\n",
       " '대의',\n",
       " '대작',\n",
       " '대중',\n",
       " '대체',\n",
       " '대충',\n",
       " '대통령',\n",
       " '대표',\n",
       " '대한',\n",
       " '대한민국',\n",
       " '대해',\n",
       " '대화',\n",
       " '댓글',\n",
       " '더',\n",
       " '더러운',\n",
       " '더럽게',\n",
       " '더불어',\n",
       " '더빙',\n",
       " '더욱',\n",
       " '덕',\n",
       " '덕분',\n",
       " '던',\n",
       " '던데',\n",
       " '덜',\n",
       " '데',\n",
       " '데리',\n",
       " '데뷔',\n",
       " '도',\n",
       " '도대체',\n",
       " '도데',\n",
       " '도무지',\n",
       " '도안',\n",
       " '도에',\n",
       " '도움',\n",
       " '도저히',\n",
       " '도전',\n",
       " '독립영화',\n",
       " '독특한',\n",
       " '돈',\n",
       " '돋보이는',\n",
       " '돌려',\n",
       " '동',\n",
       " '동네',\n",
       " '동물',\n",
       " '동생',\n",
       " '동성애',\n",
       " '동시',\n",
       " '동심',\n",
       " '동안',\n",
       " '동영상',\n",
       " '동화',\n",
       " '돼',\n",
       " '돼지',\n",
       " '됐다',\n",
       " '되',\n",
       " '되게',\n",
       " '되고',\n",
       " '되네요',\n",
       " '되는',\n",
       " '되는데',\n",
       " '되면',\n",
       " '되서',\n",
       " '되어',\n",
       " '되었다',\n",
       " '되었습니다',\n",
       " '되지',\n",
       " '된',\n",
       " '된거',\n",
       " '된다',\n",
       " '될',\n",
       " '될듯',\n",
       " '됨',\n",
       " '됩니다',\n",
       " '두',\n",
       " '두고',\n",
       " '두번째',\n",
       " '둘',\n",
       " '둘다',\n",
       " '둘째',\n",
       " '뒤',\n",
       " '뒷',\n",
       " '드',\n",
       " '드는',\n",
       " '드디어',\n",
       " '드라마',\n",
       " '드럽게',\n",
       " '드림',\n",
       " '드립니다',\n",
       " '든',\n",
       " '든다',\n",
       " '듣고',\n",
       " '들',\n",
       " '들고',\n",
       " '들어',\n",
       " '들어서',\n",
       " '들었다',\n",
       " '들은',\n",
       " '들이',\n",
       " '듬',\n",
       " '듭니',\n",
       " '듯',\n",
       " '등',\n",
       " '등등',\n",
       " '등장',\n",
       " '등장인물',\n",
       " '디',\n",
       " '디워',\n",
       " '디즈니',\n",
       " '따',\n",
       " '따듯',\n",
       " '따뜻하고',\n",
       " '따뜻한',\n",
       " '따뜻해지는',\n",
       " '따라',\n",
       " '따로',\n",
       " '따름',\n",
       " '따위',\n",
       " '딱',\n",
       " '딱히',\n",
       " '딴',\n",
       " '딸',\n",
       " '땅',\n",
       " '때',\n",
       " '때려',\n",
       " '때매',\n",
       " '때문',\n",
       " '땐',\n",
       " '땜',\n",
       " '떠나',\n",
       " '떠나서',\n",
       " '떨어지고',\n",
       " '떨어지는',\n",
       " '떨어진다',\n",
       " '떨어짐',\n",
       " '또',\n",
       " '또다른',\n",
       " '또한',\n",
       " '똑같은',\n",
       " '똥',\n",
       " '뛰어난',\n",
       " '뜬금',\n",
       " '뜻',\n",
       " '라',\n",
       " '라고',\n",
       " '라기',\n",
       " '라는',\n",
       " '라니',\n",
       " '라도',\n",
       " '라면',\n",
       " '라서',\n",
       " '라스트',\n",
       " '라이',\n",
       " '라이언',\n",
       " '라인',\n",
       " '라지',\n",
       " '란',\n",
       " '랄',\n",
       " '랑',\n",
       " '래',\n",
       " '러닝',\n",
       " '러브',\n",
       " '러시아',\n",
       " '런가',\n",
       " '레',\n",
       " '레알',\n",
       " '레이',\n",
       " '레전드',\n",
       " '려고',\n",
       " '력',\n",
       " '로',\n",
       " '로그인',\n",
       " '로는',\n",
       " '로만',\n",
       " '로맨스',\n",
       " '로맨틱',\n",
       " '로버트',\n",
       " '로봇',\n",
       " '로서',\n",
       " '로써',\n",
       " '로코',\n",
       " '론',\n",
       " '롭고',\n",
       " '루',\n",
       " '루즈',\n",
       " '류',\n",
       " '류승범',\n",
       " '류작',\n",
       " '를',\n",
       " '리',\n",
       " '리가',\n",
       " '리메이크',\n",
       " '리뷰',\n",
       " '리얼',\n",
       " '리얼리티',\n",
       " '리즈',\n",
       " '리지',\n",
       " '린',\n",
       " '린다',\n",
       " '링',\n",
       " '마',\n",
       " '마냥',\n",
       " '마다',\n",
       " '마라',\n",
       " '마리',\n",
       " '마무리',\n",
       " '마세요',\n",
       " '마시길',\n",
       " '마약',\n",
       " '마음',\n",
       " '마음속',\n",
       " '마이',\n",
       " '마이너스',\n",
       " '마이클',\n",
       " '마저',\n",
       " '마지막',\n",
       " '마치',\n",
       " '막',\n",
       " '막장',\n",
       " '막장드라마',\n",
       " '막판',\n",
       " '만',\n",
       " '만남',\n",
       " '만드',\n",
       " '만드는',\n",
       " '만든',\n",
       " '만든다',\n",
       " '만들',\n",
       " '만들고',\n",
       " '만들기',\n",
       " '만들다니',\n",
       " '만들면',\n",
       " '만들어',\n",
       " '만들어도',\n",
       " '만들어서',\n",
       " '만들어진',\n",
       " '만들었는지',\n",
       " '만들었다',\n",
       " '만들었을까',\n",
       " '만들지',\n",
       " '만세',\n",
       " '만약',\n",
       " '만에',\n",
       " '만으로',\n",
       " '만으로도',\n",
       " '만은',\n",
       " '만을',\n",
       " '만의',\n",
       " '만이',\n",
       " '만점',\n",
       " '만족',\n",
       " '만큼',\n",
       " '만큼은',\n",
       " '만큼이나',\n",
       " '만하',\n",
       " '만해',\n",
       " '만화',\n",
       " '만화영화',\n",
       " '만화책',\n",
       " '많고',\n",
       " '많다',\n",
       " '많아',\n",
       " '많아서',\n",
       " '많은',\n",
       " '많은걸',\n",
       " '많은데',\n",
       " '많이',\n",
       " '말',\n",
       " '말고',\n",
       " '말고는',\n",
       " '말로',\n",
       " '말투',\n",
       " '맘',\n",
       " '맛',\n",
       " '망',\n",
       " '망작',\n",
       " '망친',\n",
       " '망한',\n",
       " '맞고',\n",
       " '맞는',\n",
       " '맞아',\n",
       " '맞지',\n",
       " '매',\n",
       " '매니아',\n",
       " '매력',\n",
       " '매미',\n",
       " '매우',\n",
       " '매일',\n",
       " '맥',\n",
       " '맨',\n",
       " '맨날',\n",
       " '머',\n",
       " '머리',\n",
       " '먹',\n",
       " ...]"
      ]
     },
     "execution_count": 21,
     "metadata": {},
     "output_type": "execute_result"
    }
   ],
   "source": [
    "feature_names"
   ]
  },
  {
   "cell_type": "markdown",
   "metadata": {
    "colab_type": "text",
    "id": "1xCm3OMurqM2"
   },
   "source": [
    "# 로지스틱 회귀"
   ]
  },
  {
   "cell_type": "code",
   "execution_count": 23,
   "metadata": {},
   "outputs": [
    {
     "name": "stdout",
     "output_type": "stream",
     "text": [
      "Training :  0.8406266666666666\n",
      "Testing :  0.82616\n"
     ]
    }
   ],
   "source": [
    "from sklearn.linear_model import LogisticRegression\n",
    "lr = LogisticRegression()\n",
    "lr.fit(X_train,y_train)\n",
    "\n",
    "print(\"Training : \", lr.score(X_train, y_train))\n",
    "print(\"Testing : \", lr.score(X_test, y_test))"
   ]
  },
  {
   "cell_type": "markdown",
   "metadata": {
    "colab_type": "text",
    "id": "FVjDfOWKrnGG"
   },
   "source": [
    "# MLP"
   ]
  },
  {
   "cell_type": "code",
   "execution_count": 25,
   "metadata": {
    "colab": {},
    "colab_type": "code",
    "id": "qcOzFAiRIz3t"
   },
   "outputs": [],
   "source": [
    "# from keras.utils import to_categorical\n",
    "from tensorflow.keras.utils import to_categorical"
   ]
  },
  {
   "cell_type": "code",
   "execution_count": 26,
   "metadata": {
    "colab": {},
    "colab_type": "code",
    "id": "qcOzFAiRIz3t"
   },
   "outputs": [],
   "source": [
    "y_train_cat = to_categorical(y_train)\n",
    "y_test_cat = to_categorical(y_test)"
   ]
  },
  {
   "cell_type": "code",
   "execution_count": 27,
   "metadata": {},
   "outputs": [],
   "source": [
    "max_words = X_train.shape[1]\n",
    "batch_size = 100\n",
    "nb_epoch = 5"
   ]
  },
  {
   "cell_type": "code",
   "execution_count": 28,
   "metadata": {
    "colab": {
     "base_uri": "https://localhost:8080/",
     "height": 136
    },
    "colab_type": "code",
    "id": "eP8o3eKI7vBR",
    "outputId": "021d458e-0075-4e8f-a98b-cf4cd477e716"
   },
   "outputs": [
    {
     "name": "stdout",
     "output_type": "stream",
     "text": [
      "Model: \"sequential\"\n",
      "_________________________________________________________________\n",
      "Layer (type)                 Output Shape              Param #   \n",
      "=================================================================\n",
      "dense (Dense)                (None, 64)                192064    \n",
      "_________________________________________________________________\n",
      "activation (Activation)      (None, 64)                0         \n",
      "_________________________________________________________________\n",
      "dropout (Dropout)            (None, 64)                0         \n",
      "_________________________________________________________________\n",
      "dense_1 (Dense)              (None, 64)                4160      \n",
      "_________________________________________________________________\n",
      "dropout_1 (Dropout)          (None, 64)                0         \n",
      "_________________________________________________________________\n",
      "dense_2 (Dense)              (None, 2)                 130       \n",
      "=================================================================\n",
      "Total params: 196,354\n",
      "Trainable params: 196,354\n",
      "Non-trainable params: 0\n",
      "_________________________________________________________________\n"
     ]
    }
   ],
   "source": [
    "model = Sequential()\n",
    "\n",
    "model.add(Dense(64, input_shape=(max_words,)))\n",
    "# model.add(Dense(64, input_dim=max_words))   # ===> 이것도 OK~!!!\n",
    "model.add(Activation('relu'))\n",
    "model.add(Dropout(0.2))\n",
    "model.add(Dense(64))\n",
    "model.add(Dropout(0.2))\n",
    "model.add(Dense(2, activation='softmax'))\n",
    "\n",
    "model.summary()"
   ]
  },
  {
   "cell_type": "code",
   "execution_count": 29,
   "metadata": {
    "colab": {
     "base_uri": "https://localhost:8080/",
     "height": 136
    },
    "colab_type": "code",
    "id": "eP8o3eKI7vBR",
    "outputId": "021d458e-0075-4e8f-a98b-cf4cd477e716"
   },
   "outputs": [],
   "source": [
    "model.compile(loss='binary_crossentropy',\n",
    "        optimizer='adam',\n",
    "        metrics=['accuracy'])"
   ]
  },
  {
   "cell_type": "code",
   "execution_count": 30,
   "metadata": {
    "colab": {
     "base_uri": "https://localhost:8080/",
     "height": 270
    },
    "colab_type": "code",
    "id": "EovtuJMU8MZF",
    "outputId": "280743f1-c2f5-4ba0-8b92-933782aef877",
    "scrolled": false
   },
   "outputs": [
    {
     "name": "stdout",
     "output_type": "stream",
     "text": [
      "Epoch 1/5\n",
      "1500/1500 [==============================] - 8s 2ms/step - loss: 0.3995 - accuracy: 0.8146\n",
      "Epoch 2/5\n",
      "1500/1500 [==============================] - 4s 2ms/step - loss: 0.3529 - accuracy: 0.8397\n",
      "Epoch 3/5\n",
      "1500/1500 [==============================] - 3s 2ms/step - loss: 0.3313 - accuracy: 0.8538\n",
      "Epoch 4/5\n",
      "1500/1500 [==============================] - 3s 2ms/step - loss: 0.3054 - accuracy: 0.8688\n",
      "Epoch 5/5\n",
      "1500/1500 [==============================] - 4s 2ms/step - loss: 0.2746 - accuracy: 0.8833\n"
     ]
    },
    {
     "data": {
      "text/plain": [
       "<keras.callbacks.History at 0x1f6ea380e50>"
      ]
     },
     "execution_count": 30,
     "metadata": {},
     "output_type": "execute_result"
    }
   ],
   "source": [
    "# model.fit(X_train, y_train_cat,\n",
    "# model.fit(X_train.A, y_train_cat,\n",
    "\n",
    "model.fit(X_train.toarray(), y_train_cat,\n",
    "        epochs=nb_epoch, \n",
    "        batch_size=batch_size) "
   ]
  },
  {
   "cell_type": "markdown",
   "metadata": {},
   "source": [
    "### model.predict()\n",
    "- 2차원 데이터(데이터수, 출력 수)"
   ]
  },
  {
   "cell_type": "code",
   "execution_count": 31,
   "metadata": {
    "scrolled": false
   },
   "outputs": [
    {
     "data": {
      "text/plain": [
       "array([[2.7129399e-03, 9.9728703e-01],\n",
       "       [6.3842058e-01, 3.6157939e-01],\n",
       "       [8.2207903e-02, 9.1779214e-01],\n",
       "       ...,\n",
       "       [1.3438367e-03, 9.9865615e-01],\n",
       "       [9.9999988e-01, 1.0746827e-07],\n",
       "       [9.9377912e-01, 6.2208683e-03]], dtype=float32)"
      ]
     },
     "execution_count": 31,
     "metadata": {},
     "output_type": "execute_result"
    }
   ],
   "source": [
    "model.predict(X_test.toarray())"
   ]
  },
  {
   "cell_type": "code",
   "execution_count": 32,
   "metadata": {
    "colab": {
     "base_uri": "https://localhost:8080/",
     "height": 33
    },
    "colab_type": "code",
    "id": "M08FNcQzgyXM",
    "outputId": "beb07da6-0789-4ad2-de43-2935db98382a"
   },
   "outputs": [
    {
     "data": {
      "text/plain": [
       "0.83128"
      ]
     },
     "execution_count": 32,
     "metadata": {},
     "output_type": "execute_result"
    }
   ],
   "source": [
    "y_pred = np.argmax(model.predict(X_test.toarray()), axis=1)\n",
    "metrics.accuracy_score(y_test, y_pred)"
   ]
  },
  {
   "cell_type": "markdown",
   "metadata": {
    "colab_type": "text",
    "id": "HPxkhfIbrj3s"
   },
   "source": [
    "# RNN"
   ]
  },
  {
   "cell_type": "markdown",
   "metadata": {},
   "source": [
    "### return_sequences=True\n",
    "- 기본적으로 return_sequences가 False인 경우에는 SimpleRNN은 마지막 시점의 은닉 상태만 출력합니다. 이번에는 return_sequences를 True로 지정하여 모든 시점의 은닉 상태를 출력\n",
    "- (참고) https://wikidocs.net/106473"
   ]
  },
  {
   "cell_type": "code",
   "execution_count": 33,
   "metadata": {
    "scrolled": true
   },
   "outputs": [
    {
     "data": {
      "text/plain": [
       "array([[0., 0., 0., ..., 0., 0., 0.],\n",
       "       [0., 0., 0., ..., 0., 0., 0.],\n",
       "       [0., 0., 0., ..., 0., 0., 0.],\n",
       "       ...,\n",
       "       [0., 0., 0., ..., 0., 0., 0.],\n",
       "       [0., 0., 0., ..., 0., 0., 0.],\n",
       "       [0., 0., 0., ..., 0., 0., 0.]])"
      ]
     },
     "execution_count": 33,
     "metadata": {},
     "output_type": "execute_result"
    }
   ],
   "source": [
    "X_train.A"
   ]
  },
  {
   "cell_type": "code",
   "execution_count": 34,
   "metadata": {},
   "outputs": [
    {
     "data": {
      "text/plain": [
       "<150000x3000 sparse matrix of type '<class 'numpy.float64'>'\n",
       "\twith 1563112 stored elements in Compressed Sparse Row format>"
      ]
     },
     "execution_count": 34,
     "metadata": {},
     "output_type": "execute_result"
    }
   ],
   "source": [
    "X_train"
   ]
  },
  {
   "cell_type": "code",
   "execution_count": 35,
   "metadata": {
    "colab": {
     "base_uri": "https://localhost:8080/",
     "height": 33
    },
    "colab_type": "code",
    "id": "6CniODJt9RSV",
    "outputId": "477107f3-5fa3-4434-b983-22a17b214386"
   },
   "outputs": [
    {
     "name": "stdout",
     "output_type": "stream",
     "text": [
      "(150000, 1, 3000)\n",
      "(50000, 1, 3000)\n"
     ]
    }
   ],
   "source": [
    "# RNN 학습을 위한 데이터 재배열\n",
    "X_train_rnn = X_train.A.reshape((X_train.shape[0], 1, X_train.shape[1]))\n",
    "X_test_rnn = X_test.A.reshape((X_test.shape[0], 1, X_test.shape[1]))\n",
    "\n",
    "print(X_train_rnn.shape)\n",
    "print(X_test_rnn.shape)"
   ]
  },
  {
   "cell_type": "code",
   "execution_count": 36,
   "metadata": {
    "colab": {},
    "colab_type": "code",
    "id": "RcczPT0RnZBj"
   },
   "outputs": [
    {
     "name": "stdout",
     "output_type": "stream",
     "text": [
      "Model: \"sequential_1\"\n",
      "_________________________________________________________________\n",
      "Layer (type)                 Output Shape              Param #   \n",
      "=================================================================\n",
      "simple_rnn (SimpleRNN)       (None, 1, 128)            400512    \n",
      "_________________________________________________________________\n",
      "activation_1 (Activation)    (None, 1, 128)            0         \n",
      "_________________________________________________________________\n",
      "dropout_2 (Dropout)          (None, 1, 128)            0         \n",
      "_________________________________________________________________\n",
      "simple_rnn_1 (SimpleRNN)     (None, 128)               32896     \n",
      "_________________________________________________________________\n",
      "activation_2 (Activation)    (None, 128)               0         \n",
      "_________________________________________________________________\n",
      "dropout_3 (Dropout)          (None, 128)               0         \n",
      "_________________________________________________________________\n",
      "dense_3 (Dense)              (None, 2)                 258       \n",
      "=================================================================\n",
      "Total params: 433,666\n",
      "Trainable params: 433,666\n",
      "Non-trainable params: 0\n",
      "_________________________________________________________________\n"
     ]
    }
   ],
   "source": [
    "from keras.models import Sequential\n",
    "from keras.layers import SimpleRNN, Dense\n",
    "\n",
    "model = Sequential()\n",
    "\n",
    "model.add(SimpleRNN(128, input_shape=(X_train_rnn.shape[1], \n",
    "              X_train_rnn.shape[2]), return_sequences=True))\n",
    "model.add(Activation('relu'))\n",
    "model.add(Dropout(0.2))\n",
    "model.add(SimpleRNN(128))\n",
    "model.add(Activation('relu'))\n",
    "model.add(Dropout(0.2))\n",
    "model.add(Dense(2, activation=\"softmax\"))\n",
    "\n",
    "model.summary()"
   ]
  },
  {
   "cell_type": "code",
   "execution_count": 37,
   "metadata": {
    "colab": {},
    "colab_type": "code",
    "id": "RcczPT0RnZBj"
   },
   "outputs": [],
   "source": [
    "model.compile(loss='categorical_crossentropy', \n",
    "              optimizer='adam', metrics=['accuracy'])   "
   ]
  },
  {
   "cell_type": "code",
   "execution_count": 38,
   "metadata": {
    "colab": {
     "base_uri": "https://localhost:8080/",
     "height": 200
    },
    "colab_type": "code",
    "id": "Xyg_34khnY-z",
    "outputId": "ab848525-4356-4982-a3c2-7b6ed9be572c"
   },
   "outputs": [
    {
     "name": "stdout",
     "output_type": "stream",
     "text": [
      "Epoch 1/5\n",
      "1500/1500 [==============================] - 20s 6ms/step - loss: 0.3952 - accuracy: 0.8156\n",
      "Epoch 2/5\n",
      "1500/1500 [==============================] - 7s 5ms/step - loss: 0.3444 - accuracy: 0.8443\n",
      "Epoch 3/5\n",
      "1500/1500 [==============================] - 7s 5ms/step - loss: 0.3050 - accuracy: 0.8668\n",
      "Epoch 4/5\n",
      "1500/1500 [==============================] - 8s 5ms/step - loss: 0.2525 - accuracy: 0.8936\n",
      "Epoch 5/5\n",
      "1500/1500 [==============================] - 8s 5ms/step - loss: 0.2024 - accuracy: 0.9151\n"
     ]
    },
    {
     "data": {
      "text/plain": [
       "<keras.callbacks.History at 0x1f6e5b74d60>"
      ]
     },
     "execution_count": 38,
     "metadata": {},
     "output_type": "execute_result"
    }
   ],
   "source": [
    "model.fit(X_train_rnn, y_train_cat,\n",
    "          batch_size = 100,\n",
    "          epochs=nb_epoch)"
   ]
  },
  {
   "cell_type": "code",
   "execution_count": 39,
   "metadata": {
    "colab": {
     "base_uri": "https://localhost:8080/",
     "height": 33
    },
    "colab_type": "code",
    "id": "MVlbejnyAKvF",
    "outputId": "e5cb1965-b924-4c0f-ddb2-4934f368f72c"
   },
   "outputs": [
    {
     "data": {
      "text/plain": [
       "0.8284"
      ]
     },
     "execution_count": 39,
     "metadata": {},
     "output_type": "execute_result"
    }
   ],
   "source": [
    "y_pred = np.argmax(model.predict(X_test_rnn), axis=1)\n",
    "metrics.accuracy_score(y_test, y_pred)"
   ]
  }
 ],
 "metadata": {
  "accelerator": "GPU",
  "colab": {
   "collapsed_sections": [],
   "name": "gg_65_네이버영화감성분석_신경망.ipynb",
   "provenance": [],
   "version": "0.3.2"
  },
  "kernelspec": {
   "display_name": "Python 3",
   "language": "python",
   "name": "python3"
  },
  "language_info": {
   "codemirror_mode": {
    "name": "ipython",
    "version": 3
   },
   "file_extension": ".py",
   "mimetype": "text/x-python",
   "name": "python",
   "nbconvert_exporter": "python",
   "pygments_lexer": "ipython3",
   "version": "3.8.8"
  }
 },
 "nbformat": 4,
 "nbformat_minor": 1
}
