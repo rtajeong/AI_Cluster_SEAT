{
 "cells": [
  {
   "cell_type": "code",
   "execution_count": 2,
   "id": "69cdfc77",
   "metadata": {},
   "outputs": [],
   "source": [
    "# 라이브러리 불러오기\n",
    "from keras.datasets import mnist\n",
    "from tensorflow.keras.utils import to_categorical"
   ]
  },
  {
   "cell_type": "code",
   "execution_count": 3,
   "id": "3f1e4c63",
   "metadata": {},
   "outputs": [],
   "source": [
    "# 데이터 로드\n",
    "from keras.datasets import mnist\n",
    "\n",
    "(train_images, train_labels), (test_images, test_labels) = mnist.load_data()"
   ]
  },
  {
   "cell_type": "code",
   "execution_count": 4,
   "id": "da39cd04",
   "metadata": {},
   "outputs": [
    {
     "data": {
      "text/plain": [
       "<function matplotlib.pyplot.show(close=None, block=None)>"
      ]
     },
     "execution_count": 4,
     "metadata": {},
     "output_type": "execute_result"
    },
    {
     "data": {
      "image/png": "[encoded data removed]",
      "text/plain": [
       "<Figure size 432x288 with 1 Axes>"
      ]
     },
     "metadata": {
      "needs_background": "light"
     },
     "output_type": "display_data"
    }
   ],
   "source": [
    "# MNIST 이미지 확인 및 데이터 전처리\n",
    "import matplotlib.pyplot as plt\n",
    "%matplotlib inline\n",
    "\n",
    "plt.imshow(train_images[0], cmap=plt.cm.binary)\n",
    "plt.show"
   ]
  },
  {
   "cell_type": "code",
   "execution_count": 5,
   "id": "013c1ca3",
   "metadata": {},
   "outputs": [],
   "source": [
    "train_images = train_images.reshape((60000, 28, 28, 1))\n",
    "train_images = train_images.astype('float32')/255\n",
    "\n",
    "test_images = test_images.reshape((10000, 28, 28, 1))\n",
    "test_images = test_images.astype('float32')/255"
   ]
  },
  {
   "cell_type": "code",
   "execution_count": 6,
   "id": "ee34cc51",
   "metadata": {},
   "outputs": [
    {
     "name": "stdout",
     "output_type": "stream",
     "text": [
      "(60000, 28, 28, 1) float32\n"
     ]
    }
   ],
   "source": [
    "print(train_images.shape, train_images.dtype)"
   ]
  },
  {
   "cell_type": "code",
   "execution_count": 7,
   "id": "df3b28d3",
   "metadata": {},
   "outputs": [],
   "source": [
    "train_labels = to_categorical(train_labels)\n",
    "test_labels = to_categorical(test_labels)"
   ]
  },
  {
   "cell_type": "code",
   "execution_count": 8,
   "id": "ccd62969",
   "metadata": {},
   "outputs": [
    {
     "data": {
      "text/plain": [
       "array([[0., 0., 0., 0., 0., 1., 0., 0., 0., 0.],\n",
       "       [1., 0., 0., 0., 0., 0., 0., 0., 0., 0.],\n",
       "       [0., 0., 0., 0., 1., 0., 0., 0., 0., 0.],\n",
       "       [0., 1., 0., 0., 0., 0., 0., 0., 0., 0.],\n",
       "       [0., 0., 0., 0., 0., 0., 0., 0., 0., 1.],\n",
       "       [0., 0., 1., 0., 0., 0., 0., 0., 0., 0.],\n",
       "       [0., 1., 0., 0., 0., 0., 0., 0., 0., 0.],\n",
       "       [0., 0., 0., 1., 0., 0., 0., 0., 0., 0.],\n",
       "       [0., 1., 0., 0., 0., 0., 0., 0., 0., 0.],\n",
       "       [0., 0., 0., 0., 1., 0., 0., 0., 0., 0.]], dtype=float32)"
      ]
     },
     "execution_count": 8,
     "metadata": {},
     "output_type": "execute_result"
    }
   ],
   "source": [
    "train_labels[:10]"
   ]
  },
  {
   "cell_type": "code",
   "execution_count": 9,
   "id": "fd626163",
   "metadata": {},
   "outputs": [
    {
     "name": "stdout",
     "output_type": "stream",
     "text": [
      "Model: \"sequential\"\n",
      "_________________________________________________________________\n",
      "Layer (type)                 Output Shape              Param #   \n",
      "=================================================================\n",
      "conv2d (Conv2D)              (None, 26, 26, 32)        320       \n",
      "_________________________________________________________________\n",
      "max_pooling2d (MaxPooling2D) (None, 13, 13, 32)        0         \n",
      "_________________________________________________________________\n",
      "conv2d_1 (Conv2D)            (None, 11, 11, 64)        18496     \n",
      "_________________________________________________________________\n",
      "max_pooling2d_1 (MaxPooling2 (None, 5, 5, 64)          0         \n",
      "_________________________________________________________________\n",
      "conv2d_2 (Conv2D)            (None, 3, 3, 64)          36928     \n",
      "_________________________________________________________________\n",
      "flatten (Flatten)            (None, 576)               0         \n",
      "_________________________________________________________________\n",
      "dense (Dense)                (None, 10)                5770      \n",
      "=================================================================\n",
      "Total params: 61,514\n",
      "Trainable params: 61,514\n",
      "Non-trainable params: 0\n",
      "_________________________________________________________________\n"
     ]
    }
   ],
   "source": [
    "# CNN 모델 생성\n",
    "from keras import layers\n",
    "from keras import models\n",
    "\n",
    "model = models.Sequential()\n",
    "model.add(layers.Conv2D(32, (3,3), activation='relu', input_shape = (28, 28, 1)))\n",
    "model.add(layers.MaxPooling2D((2,2)))\n",
    "model.add(layers.Conv2D(64, (3,3), activation='relu'))\n",
    "model.add(layers.MaxPooling2D((2,2)))\n",
    "model.add(layers.Conv2D(64, (3,3), activation='relu'))\n",
    "\n",
    "model.add(layers.Flatten())\n",
    "model.add(layers.Dense(10, activation='softmax'))\n",
    "\n",
    "model.summary()   "
   ]
  },
  {
   "cell_type": "code",
   "execution_count": 10,
   "id": "5c88a3b4",
   "metadata": {},
   "outputs": [],
   "source": [
    "# 훈련\n",
    "model.compile(optimizer= 'rmsprop',\n",
    "             loss = 'categorical_crossentropy',\n",
    "             metrics = ['accuracy'])"
   ]
  },
  {
   "cell_type": "code",
   "execution_count": 11,
   "id": "3bc32e72",
   "metadata": {},
   "outputs": [
    {
     "name": "stdout",
     "output_type": "stream",
     "text": [
      "Epoch 1/10\n",
      "938/938 [==============================] - 27s 27ms/step - loss: 0.1762 - accuracy: 0.9462 - val_loss: 0.0466 - val_accuracy: 0.9854\n",
      "Epoch 2/10\n",
      "938/938 [==============================] - 23s 24ms/step - loss: 0.0516 - accuracy: 0.9840 - val_loss: 0.0368 - val_accuracy: 0.9879\n",
      "Epoch 3/10\n",
      "938/938 [==============================] - 22s 24ms/step - loss: 0.0355 - accuracy: 0.9888 - val_loss: 0.0356 - val_accuracy: 0.9878\n",
      "Epoch 4/10\n",
      "938/938 [==============================] - 22s 24ms/step - loss: 0.0272 - accuracy: 0.9916 - val_loss: 0.0303 - val_accuracy: 0.9910\n",
      "Epoch 5/10\n",
      "938/938 [==============================] - 23s 24ms/step - loss: 0.0215 - accuracy: 0.9936 - val_loss: 0.0270 - val_accuracy: 0.9907\n",
      "Epoch 6/10\n",
      "938/938 [==============================] - 22s 24ms/step - loss: 0.0177 - accuracy: 0.9945 - val_loss: 0.0248 - val_accuracy: 0.9920\n",
      "Epoch 7/10\n",
      "938/938 [==============================] - 22s 24ms/step - loss: 0.0144 - accuracy: 0.9957 - val_loss: 0.0303 - val_accuracy: 0.9917\n",
      "Epoch 8/10\n",
      "938/938 [==============================] - 22s 24ms/step - loss: 0.0118 - accuracy: 0.9963 - val_loss: 0.0264 - val_accuracy: 0.9926\n",
      "Epoch 9/10\n",
      "938/938 [==============================] - 22s 24ms/step - loss: 0.0104 - accuracy: 0.9967 - val_loss: 0.0275 - val_accuracy: 0.9935\n",
      "Epoch 10/10\n",
      "938/938 [==============================] - 22s 24ms/step - loss: 0.0083 - accuracy: 0.9975 - val_loss: 0.0335 - val_accuracy: 0.9901\n"
     ]
    }
   ],
   "source": [
    "hist = model.fit(train_images, train_labels, \n",
    "                 epochs=10, batch_size=64,\n",
    "                 validation_data=(test_images, test_labels),\n",
    "                 verbose=1)"
   ]
  },
  {
   "cell_type": "code",
   "execution_count": 12,
   "id": "30f52930",
   "metadata": {},
   "outputs": [
    {
     "name": "stdout",
     "output_type": "stream",
     "text": [
      "313/313 [==============================] - 1s 4ms/step - loss: 0.0335 - accuracy: 0.9901\n",
      "test_acc =  0.9901000261306763\n"
     ]
    }
   ],
   "source": [
    "# 테스트 결과\n",
    "test_loss, test_acc = model.evaluate(test_images, test_labels)\n",
    "print('test_acc = ',test_acc)"
   ]
  },
  {
   "cell_type": "code",
   "execution_count": null,
   "id": "308601ce",
   "metadata": {},
   "outputs": [],
   "source": []
  }
 ],
 "metadata": {
  "kernelspec": {
   "display_name": "Python 3",
   "language": "python",
   "name": "python3"
  },
  "language_info": {
   "codemirror_mode": {
    "name": "ipython",
    "version": 3
   },
   "file_extension": ".py",
   "mimetype": "text/x-python",
   "name": "python",
   "nbconvert_exporter": "python",
   "pygments_lexer": "ipython3",
   "version": "3.8.8"
  }
 },
 "nbformat": 4,
 "nbformat_minor": 5
}
